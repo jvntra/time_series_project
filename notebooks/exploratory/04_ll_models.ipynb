{
 "cells": [
  {
   "cell_type": "markdown",
   "metadata": {},
   "source": [
    "## Model Iterations "
   ]
  },
  {
   "cell_type": "markdown",
   "metadata": {},
   "source": [
    "### Goal\n",
    "- To automate model iterations for shortlisted zipcodes\n",
    "- Build models\n",
    "- use models to predict on test data\n",
    "- Filter out ill performing models\n",
    "- Retrain models on the entire time series?\n",
    "- Make future Forecasts\n",
    "- Caluculate ROI for one year and select top 5\n"
   ]
  },
  {
   "cell_type": "code",
   "execution_count": 1,
   "metadata": {},
   "outputs": [],
   "source": [
    "%load_ext autoreload\n",
    "%autoreload 2"
   ]
  },
  {
   "cell_type": "code",
   "execution_count": 2,
   "metadata": {},
   "outputs": [],
   "source": [
    "import os, sys\n",
    "import numpy as np\n",
    "import pandas as pd\n",
    "import matplotlib.pyplot as plt\n",
    "import seaborn as sns\n",
    "%matplotlib inline\n",
    "import warnings\n",
    "warnings.filterwarnings('ignore')\n",
    "\n",
    "module_path = os.path.abspath(os.path.join(os.pardir, os.pardir))\n",
    "if module_path not in sys.path:\n",
    "    sys.path.append(module_path)\n",
    "\n",
    "from src import cleaning_functions as cfs\n",
    "from matplotlib.pylab import rcParams\n",
    "plt.style.use('fivethirtyeight')\n",
    "from statsmodels.graphics.tsaplots import plot_pacf, plot_acf\n",
    "from statsmodels.tsa.arima_model import ARIMA\n",
    "from pmdarima import auto_arima\n",
    "from statsmodels.tsa.statespace.sarimax import SARIMAX\n",
    "import itertools\n",
    "from statsmodels.tsa.seasonal import seasonal_decompose\n",
    "from dateutil.easter import easter\n",
    "from fbprophet import Prophet\n",
    "from sklearn.metrics import mean_squared_error"
   ]
  },
  {
   "cell_type": "markdown",
   "metadata": {},
   "source": [
    "Firstly let's make a function that subsets the dataframe as per Chicago Metro Area, calculates 5year ROI, 2 year ROI and creates a list of top regions, and converts the wide format to long and returns a time series dataframe with zipcodes as columns "
   ]
  },
  {
   "cell_type": "code",
   "execution_count": 3,
   "metadata": {},
   "outputs": [],
   "source": [
    "df = cfs.load_df()\n",
    "melted_df = cfs.melt_data(df)\n",
    "chicago_df = df[(df['Metro'] == 'Chicago') & (df['State'] == 'IL')]\n",
    "chicago_df['ROI_5yrs'] = ((chicago_df['2018-04'] - chicago_df['2013-04'])/chicago_df['2013-04'])*100\n",
    "chicago_df['ROI_2yrs'] = ((chicago_df['2018-04'] - chicago_df['2016-04'])/chicago_df['2016-04'])*100\n",
    "top_15_ROI5 = chicago_df.sort_values('ROI_5yrs', ascending=False)[:15].RegionName\n",
    "top_15_ROI2 = chicago_df.sort_values('ROI_2yrs', ascending=False)[:15].RegionName"
   ]
  },
  {
   "cell_type": "code",
   "execution_count": 4,
   "metadata": {},
   "outputs": [
    {
     "data": {
      "text/plain": [
       "array([60804, 60085, 60153, 60110, 60104, 60505, 60651, 60073, 60436,\n",
       "       60639, 60120, 60165, 60160, 60641, 60042])"
      ]
     },
     "execution_count": 4,
     "metadata": {},
     "output_type": "execute_result"
    }
   ],
   "source": [
    "top_15_ROI5.values"
   ]
  },
  {
   "cell_type": "code",
   "execution_count": 5,
   "metadata": {},
   "outputs": [
    {
     "data": {
      "text/plain": [
       "array([60085, 60432, 60436, 60163, 60456, 60034, 60180, 60633, 60099,\n",
       "       60505, 60162, 60165, 60408, 60639, 60160])"
      ]
     },
     "execution_count": 5,
     "metadata": {},
     "output_type": "execute_result"
    }
   ],
   "source": [
    "top_15_ROI2.values"
   ]
  },
  {
   "cell_type": "markdown",
   "metadata": {},
   "source": [
    "These are teh repeats in our top 15 zipcodes based on calculated ROIs\n",
    "[60085, 60505, 60436]"
   ]
  },
  {
   "cell_type": "code",
   "execution_count": 20,
   "metadata": {},
   "outputs": [],
   "source": [
    "regions = top_15_ROI5.values + top_15_ROI2.values"
   ]
  },
  {
   "cell_type": "code",
   "execution_count": 21,
   "metadata": {},
   "outputs": [
    {
     "data": {
      "text/plain": [
       "array([120889, 120517, 120589, 120273, 120560, 120539, 120831, 120706,\n",
       "       120535, 121144, 120282, 120330, 120568, 121280, 120202])"
      ]
     },
     "execution_count": 21,
     "metadata": {},
     "output_type": "execute_result"
    }
   ],
   "source": []
  },
  {
   "cell_type": "code",
   "execution_count": null,
   "metadata": {},
   "outputs": [],
   "source": [
    "chicago_top_27 = pd.DataFrame()\n",
    "chicago_top_30['time'] = pd.date_range(start='1996-04-01', end='2018-04-01', freq='MS')\n",
    "chicago_top_30.set_index('time', inplace=True)\n",
    "for region in top_30.values:\n",
    "    chicago_top_30[region] = melted_df[melted_df['RegionName'] == region].value.values"
   ]
  },
  {
   "cell_type": "code",
   "execution_count": null,
   "metadata": {},
   "outputs": [],
   "source": []
  },
  {
   "cell_type": "code",
   "execution_count": null,
   "metadata": {},
   "outputs": [],
   "source": []
  },
  {
   "cell_type": "code",
   "execution_count": null,
   "metadata": {},
   "outputs": [],
   "source": [
    "def chicago_df():\n",
    "    \"\"\"This function returns the dataframe with\n",
    "    chicago metropolitan zipcodes and the median \n",
    "    home saleprices in the long format\n",
    "    \"\"\"\n",
    "    #helper funstion to load csv as df\n",
    "    #path = '../../data/zillow_data.csv'\n",
    "    df = load_df()\n",
    "    \n",
    "    #shortlisting chicago metro area\n",
    "    chicago_df = df[(df['Metro'] == 'Chicago') & (df['State'] == 'IL')]\n",
    "    \n",
    "    #caluculating ROI 5yrs & 2yrs\n",
    "    chicago_df['ROI_5yrs'] = ((chicago_df['2018-04'] -chicago_df['2013-04'])/\n",
    "                              chicago_df['2013-04'])*100\n",
    "    chicago_df['ROI_2yrs'] = ((chicago_df['2018-04'] - chicago_df['2016-04'])/\n",
    "                              chicago_df['2016-04'])*100\n",
    "    \n",
    "    #sorting dataframe based on calculated ROIs\n",
    "    top_30 = chicago_df.sort_values(\n",
    "        'ROI_5yrs', ascending=False)[:100].sort_values(\n",
    "        'ROI_2yrs',ascending=False)[:30]\n",
    "    \n",
    "    #wide to long format\n",
    "    melted = pd.melt(top_30, id_vars=['RegionName', 'City','State',\n",
    "                                      'Metro', 'CountyName','RegionID',\n",
    "                                      'SizeRank', 'ROI_5yrs', 'ROI_2yrs' ],\n",
    "                     var_name='time')\n",
    "    melted['time'] = pd.to_datetime(melted['time'], infer_datetime_format=True)\n",
    "    melted = melted.dropna(subset=['value'])\n",
    "    \n",
    "    #top 30 zipcodes\n",
    "    regions = melted.sort_values('ROI_2yrs', ascending=False).RegionName.unique()\n",
    "    \n",
    "    #setting up timeseries dataframe\n",
    "    new_df = pd.DataFrame()\n",
    "    new_df['time'] = pd.date_range(start='1996-04-01', end='2018-04-01', freq='MS')\n",
    "    new_df.set_index('time', inplace=True)\n",
    "    for region in regions:\n",
    "        new_df[region] = melted[melted['RegionName'] == region].value.values\n",
    "    \n",
    "    return new_df, regions\n"
   ]
  },
  {
   "cell_type": "code",
   "execution_count": null,
   "metadata": {},
   "outputs": [],
   "source": [
    "sorted_list = sorted(dict_name, key= lambda x: x[1], reverse=True)"
   ]
  }
 ],
 "metadata": {
  "kernelspec": {
   "display_name": "learn-env",
   "language": "python",
   "name": "learn-env"
  },
  "language_info": {
   "codemirror_mode": {
    "name": "ipython",
    "version": 3
   },
   "file_extension": ".py",
   "mimetype": "text/x-python",
   "name": "python",
   "nbconvert_exporter": "python",
   "pygments_lexer": "ipython3",
   "version": "3.6.9"
  }
 },
 "nbformat": 4,
 "nbformat_minor": 4
}
