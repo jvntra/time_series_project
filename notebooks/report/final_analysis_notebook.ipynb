{
 "cells": [
  {
   "cell_type": "markdown",
   "metadata": {},
   "source": [
    "# Forecasting Real-Estate Property Value around Chicago Metropolitan Area\n",
    "Modeling and analysis by Matt Carr, Johnhoy Stephens, and Luluva Lakdawala"
   ]
  },
  {
   "cell_type": "markdown",
   "metadata": {},
   "source": [
    "## Setting the Scene:\n",
    "\n",
    "This project investigates the trend in the market value of homes around the Chicago metropolitan area and uses times series modeling techniques to make forecasts for a one year time period. Using the forecasts made with our models, Return on Investment (ROI) are calculated for each forecast and the best regions are selected purely based on ROI. Real Estate investments are capital intensive and locating properties in which to invest can involve substantial work. We aim to provide a guide for narrowing down the search to Zip codes for properties to invest in. \n",
    "\n",
    "### Goals:\n",
    "\n",
    "Our project aims to:\n",
    "- Identify regions around Chicago metropolitan area where the market value of properties have seen steady growth over the years.\n",
    "- Build Time Series Models based on the values of homes sold in the past in those regions.\n",
    "- Make forecasts of median home prices for the identified regions.\n",
    "- Make recommendations for investment in real estate in Zip Codes that exhibit the best return on investment.\n",
    "\n",
    "### Definitions:\n",
    "\n",
    "- Return on Investment:\n",
    "    - Return on Investment (ROI) is defined as a performance measure used to calculate the efficiency of an investment. To calculate ROI - the return is divided by the cost of investment.\n",
    "        \n",
    "- Historical ROI :\n",
    "    - Similar to ROI but it is calculated on historical data -> (present value less past value) divided by past value.\n",
    "    \n",
    "- Model:\n",
    "    - The term model referred to through this project is in reference to the variuos Time Series Models that are built for making forecasts.\n",
    "    \n",
    "- AIC score:\n",
    "    - The metric we are using to compare the various models we build. Akaike information criterion (AIC) is a defined as an estimator that calculates the prediction error of a model. It estimates the quality of a model relative to other models. A good model is the one that has minimum AIC among all the other models.\n",
    "    \n",
    "### Data:\n",
    "\n",
    "The data used in this project is from [Zillow Research Page](https://www.zillow.com/research/data/)\n",
    "\n",
    "Note that this modeling analysis contains the 'stream lined' version iterations from getting our first simple model to our final models. To get a more in depth view of our exploration process, mistakes, and triumphs, please refer to the exploratory folder within the notebooks folder.\n",
    "\n",
    "### Analysis Takeaways:  \n",
    "\n",
    "\n",
    "### Future Investigations:\n",
    "\n",
    "\n",
    "### Recommendations:\n"
   ]
  },
  {
   "cell_type": "code",
   "execution_count": null,
   "metadata": {},
   "outputs": [],
   "source": [
    "%load_ext autoreload\n",
    "%autoreload 2"
   ]
  },
  {
   "cell_type": "code",
   "execution_count": null,
   "metadata": {},
   "outputs": [],
   "source": [
    "import os, sys\n",
    "import numpy as np\n",
    "import pandas as pd\n",
    "import matplotlib.pyplot as plt\n",
    "import seaborn as sns\n",
    "%matplotlib inline\n",
    "import warnings\n",
    "warnings.filterwarnings('ignore')\n",
    "\n",
    "module_path = os.path.abspath(os.path.join(os.pardir, os.pardir))\n",
    "if module_path not in sys.path:\n",
    "    sys.path.append(module_path)\n",
    "\n",
    "from src import cleaning_functions as cfs\n",
    "from matplotlib.pylab import rcParams\n",
    "plt.style.use('fivethirtyeight')\n",
    "from statsmodels.graphics.tsaplots import plot_pacf, plot_acf\n",
    "from statsmodels.tsa.arima_model import ARIMA\n",
    "from pmdarima import auto_arima\n",
    "from statsmodels.tsa.statespace.sarimax import SARIMAX\n",
    "import itertools\n",
    "from statsmodels.tsa.seasonal import seasonal_decompose\n",
    "from dateutil.easter import easter\n",
    "from fbprophet import Prophet\n",
    "from sklearn.metrics import mean_squared_error as mse"
   ]
  }
 ],
 "metadata": {
  "kernelspec": {
   "display_name": "learn-env",
   "language": "python",
   "name": "learn-env"
  },
  "language_info": {
   "codemirror_mode": {
    "name": "ipython",
    "version": 3
   },
   "file_extension": ".py",
   "mimetype": "text/x-python",
   "name": "python",
   "nbconvert_exporter": "python",
   "pygments_lexer": "ipython3",
   "version": "3.6.9"
  }
 },
 "nbformat": 4,
 "nbformat_minor": 4
}
